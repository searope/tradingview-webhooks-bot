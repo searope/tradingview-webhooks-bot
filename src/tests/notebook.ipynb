{
 "cells": [
  {
   "cell_type": "code",
   "execution_count": null,
   "metadata": {},
   "outputs": [],
   "source": [
    "import requests\n",
    "\n",
    "token = \"the_bot_has_been_deleted\"\n",
    "url = f\"https://api.telegram.org/bot{token}\"\n",
    "params = {\"chat_id\": \"873858221\", \"text\": \"Hello World\"}\n",
    "r = requests.get(url + \"/sendMessage\", params=params)"
   ]
  },
  {
   "cell_type": "code",
   "execution_count": 3,
   "metadata": {},
   "outputs": [
    {
     "data": {
      "text/plain": [
       "<Response [200]>"
      ]
     },
     "execution_count": 3,
     "metadata": {},
     "output_type": "execute_result"
    }
   ],
   "source": [
    "import requests \n",
    "\n",
    "\n",
    "topic = 'BCF0ED01F5EB4893B7381B92968488C9'\n",
    "message = 'Hi from Python :)'\n",
    "requests.post(f'https://ntfy.sh/{topic}', data=message.encode(encoding='utf-8'))\n"
   ]
  },
  {
   "cell_type": "code",
   "execution_count": 4,
   "metadata": {},
   "outputs": [
    {
     "name": "stdout",
     "output_type": "stream",
     "text": [
      "b'{\"id\":\"TAAmzv2GWEql\",\"time\":1736260221,\"expires\":1736303421,\"event\":\"message\",\"topic\":\"BCF0ED01F5EB4893B7381B92968488C9\",\"title\":\"Error parsing JSON data\",\"message\":\"Error parsing JSON data from request...\\\\n                Exception: Expecting value: line 1 column 1 (char 0)\\\\n                Request data: b\\'RUT Crossing 2,270.0000\\'\\\\n                Request headers: Headers({\\'host\\': \\'shark-app-cjo49.ondigitalocean.app\\', \\'cdn-loop\\': \\'cloudflare; loops=1\\', \\'accept-encoding\\': \\'gzip, br\\', \\'x-forwarded-for\\': \\'52.32.178.7,172.68.23.15\\', \\'content-length\\': \\'23\\', \\'x-forwarded-proto\\': \\'https\\', \\'user-agent\\': \\'Go-http-client/1.1\\', \\'content-type\\': \\'text/plain; charset=utf-8\\', \\'do-connecting-ip\\': \\'52.32.178.7\\'})\",\"tags\":[\"rotating_light\"]}'\n",
      "b'{\"id\":\"WQ40x9pnm16m\",\"time\":1736262070,\"expires\":1736305270,\"event\":\"message\",\"topic\":\"BCF0ED01F5EB4893B7381B92968488C9\",\"title\":\"Error parsing JSON data\",\"message\":\"Error parsing JSON data from request...\\\\n                Exception: Expecting value: line 1 column 1 (char 0)\\\\n                Request data: b\\'RUT Crossing 2,270.0000\\'\\\\n                Request headers: Headers({\\'host\\': \\'shark-app-cjo49.ondigitalocean.app\\', \\'cdn-loop\\': \\'cloudflare; loops=1\\', \\'accept-encoding\\': \\'gzip, br\\', \\'x-forwarded-for\\': \\'52.32.178.7,108.162.245.163\\', \\'content-length\\': \\'23\\', \\'x-forwarded-proto\\': \\'https\\', \\'user-agent\\': \\'Go-http-client/1.1\\', \\'content-type\\': \\'text/plain; charset=utf-8\\', \\'do-connecting-ip\\': \\'52.32.178.7\\'})\",\"tags\":[\"rotating_light\"]}'\n",
      "b'{\"id\":\"zyvPHAn8MuZt\",\"time\":1736263813,\"expires\":1736307013,\"event\":\"message\",\"topic\":\"BCF0ED01F5EB4893B7381B92968488C9\",\"title\":\"Error parsing JSON data\",\"message\":\"Error parsing JSON data from request...\\\\n                Exception: Expecting value: line 1 column 1 (char 0)\\\\n                Request data: b\\'INTU, 1D Entering Channel (Upper Bound: Parallel Channel, Lower Bound: Parallel Channel)\\'\\\\n                Request headers: Headers({\\'host\\': \\'shark-app-cjo49.ondigitalocean.app\\', \\'cdn-loop\\': \\'cloudflare; loops=1\\', \\'accept-encoding\\': \\'gzip, br\\', \\'x-forwarded-for\\': \\'52.32.178.7,172.68.174.154\\', \\'content-length\\': \\'88\\', \\'x-forwarded-proto\\': \\'https\\', \\'user-agent\\': \\'Go-http-client/1.1\\', \\'content-type\\': \\'text/plain; charset=utf-8\\', \\'do-connecting-ip\\': \\'52.32.178.7\\'})\",\"tags\":[\"rotating_light\"]}'\n",
      "b'{\"id\":\"Q5WM7q59DooR\",\"time\":1736271953,\"expires\":1736315153,\"event\":\"message\",\"topic\":\"BCF0ED01F5EB4893B7381B92968488C9\",\"message\":\"Hi from Python :)\"}'\n",
      "b'{\"id\":\"wADrRHfu9HOz\",\"time\":1736272927,\"expires\":1736316127,\"event\":\"message\",\"topic\":\"BCF0ED01F5EB4893B7381B92968488C9\",\"message\":\"Hi from Python :)\"}'\n",
      "b'{\"id\":\"N3gZvz2ioVKG\",\"time\":1736274074,\"expires\":1736317274,\"event\":\"message\",\"topic\":\"BCF0ED01F5EB4893B7381B92968488C9\",\"message\":\"Backup successful \\xf0\\x9f\\x98\\x80\"}'\n",
      "b'{\"id\":\"lyAl2SqgymNM\",\"time\":1736274355,\"expires\":1736317555,\"event\":\"message\",\"topic\":\"BCF0ED01F5EB4893B7381B92968488C9\",\"message\":\"Backup successful \\xf0\\x9f\\x98\\x80\"}'\n"
     ]
    }
   ],
   "source": [
    "import os\n",
    "import requests \n",
    "\n",
    "topic = os.environ['NTFY_TOPIC']\n",
    "last_poll_timestamp = 1736271953\n",
    "#resp = requests.get(f'https://ntfy.sh/{topic}/json?since={last_poll_timestamp}')\n",
    "resp = requests.get(f'https://ntfy.sh/{topic}/json?poll=1')\n",
    "for line in resp.iter_lines():\n",
    "  if line:\n",
    "    print(line)\n"
   ]
  },
  {
   "cell_type": "code",
   "execution_count": 1,
   "metadata": {},
   "outputs": [
    {
     "name": "stdout",
     "output_type": "stream",
     "text": [
      "BCF0ED01F5EB4893B7381B92968488C9\n",
      "b'{\"id\":\"N3gZvz2ioVKG\",\"time\":1736274074,\"expires\":1736317274,\"event\":\"message\",\"topic\":\"BCF0ED01F5EB4893B7381B92968488C9\",\"message\":\"Backup successful \\xf0\\x9f\\x98\\x80\"}'\n",
      "b'{\"id\":\"lyAl2SqgymNM\",\"time\":1736274355,\"expires\":1736317555,\"event\":\"message\",\"topic\":\"BCF0ED01F5EB4893B7381B92968488C9\",\"message\":\"Backup successful \\xf0\\x9f\\x98\\x80\"}'\n"
     ]
    }
   ],
   "source": [
    "%load_ext dotenv\n",
    "%dotenv\n",
    "\n",
    "import os\n",
    "import requests \n",
    "\n",
    "topic = os.getenv('NTFY_TOPIC')\n",
    "print(topic)\n",
    "last_poll_timestamp = 'wADrRHfu9HOz'\n",
    "resp = requests.get(f'https://ntfy.sh/{topic}/json?poll=1&since={last_poll_timestamp}')\n",
    "for line in resp.iter_lines():\n",
    "  if line:\n",
    "    print(line)"
   ]
  },
  {
   "cell_type": "code",
   "execution_count": 1,
   "metadata": {},
   "outputs": [
    {
     "name": "stdout",
     "output_type": "stream",
     "text": [
      "Hello from Child!\n",
      "Hello from Parent!\n"
     ]
    }
   ],
   "source": [
    "class Parent:\n",
    "    def say_hello(self):\n",
    "        print(\"Hello from Parent!\")\n",
    "\n",
    "class Child(Parent):\n",
    "    def say_hello(self):\n",
    "        print(\"Hello from Child!\")\n",
    "        super().say_hello()  # Call the parent class's say_hello method\n",
    "\n",
    "child = Child()\n",
    "child.say_hello()"
   ]
  }
 ],
 "metadata": {
  "kernelspec": {
   "display_name": ".venv",
   "language": "python",
   "name": "python3"
  },
  "language_info": {
   "codemirror_mode": {
    "name": "ipython",
    "version": 3
   },
   "file_extension": ".py",
   "mimetype": "text/x-python",
   "name": "python",
   "nbconvert_exporter": "python",
   "pygments_lexer": "ipython3",
   "version": "3.12.8"
  }
 },
 "nbformat": 4,
 "nbformat_minor": 2
}
